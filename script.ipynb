{
 "cells": [
  {
   "cell_type": "code",
   "execution_count": 3,
   "metadata": {},
   "outputs": [],
   "source": [
    "import networkx as nx\n",
    "import matplotlib.pyplot as plt\n",
    "from matplotlib.colors import Normalize, rgb_to_hsv, LinearSegmentedColormap\n",
    "import numpy as np\n",
    "from collections import defaultdict\n",
    "from itertools import combinations\n",
    "import random\n",
    "import subprocess"
   ]
  },
  {
   "cell_type": "markdown",
   "metadata": {},
   "source": [
    "# Parameters settings\n",
    "Adjust the parameters in the first code block with the ones you prefer.\n",
    "Then specify your graph path and the saving directory."
   ]
  },
  {
   "cell_type": "code",
   "execution_count": 21,
   "metadata": {},
   "outputs": [],
   "source": [
    "max_iter = 50_000_000\n",
    "max_num_group = 5\n",
    "initial_num_group = 2\n",
    "gml_path = \"./Graphs/flying_teams.gml\"\n",
    "saved_data_name = \"flying_teams_cp_5\"\n",
    "save_directory = \"Outputs/flying_teams_5/\"\n",
    "\n",
    "config_path = save_directory + saved_data_name + \"_configs.txt\"\n",
    "num_groups_path = save_directory + saved_data_name + \"_num_groups.txt\"\n",
    "ll_path = save_directory + saved_data_name + \"_ll.txt\"\n",
    "\n",
    "new_values = {\n",
    "    \"gml_path\": gml_path,\n",
    "    \"max_itr\": max_iter,\n",
    "    \"max_num_groups\": max_num_group,\n",
    "    \"initial_num_groups\": initial_num_group,\n",
    "    \"saved_data_name\": saved_data_name,\n",
    "    \"save_directory\": save_directory\n",
    "}\n",
    "\n",
    "with open(\"parameters.txt\", \"r+\") as f:\n",
    "    lines = f.readlines()\n",
    "    f.seek(0)\n",
    "    f.truncate()\n",
    "    \n",
    "    for line in lines:\n",
    "        key = line.split(\":\")[0].strip()\n",
    "        if key in new_values:\n",
    "            f.write(f\"{key}: {new_values[key]}\\n\")\n",
    "        else:\n",
    "            f.write(line)"
   ]
  },
  {
   "cell_type": "markdown",
   "metadata": {},
   "source": [
    "# Run program"
   ]
  },
  {
   "cell_type": "code",
   "execution_count": 22,
   "metadata": {},
   "outputs": [
    {
     "data": {
      "text/plain": [
       "CompletedProcess(args=['build/hcp.exe', 'parameters.txt'], returncode=0)"
      ]
     },
     "execution_count": 22,
     "metadata": {},
     "output_type": "execute_result"
    }
   ],
   "source": [
    "path_exe = \"build/hcp.exe\"\n",
    "subprocess.run([path_exe, \"parameters.txt\"])"
   ]
  },
  {
   "cell_type": "markdown",
   "metadata": {},
   "source": [
    "# 2 groups plotting"
   ]
  },
  {
   "cell_type": "code",
   "execution_count": 24,
   "metadata": {},
   "outputs": [
    {
     "name": "stdout",
     "output_type": "stream",
     "text": [
      "Minimum log likelihood: -600.218 at index 16526\n",
      "Best config: [15, 31, 15, 13, 31, 7, 27, 29, 23, 31, 9, 13, 15, 31, 21, 23, 31, 13, 15, 29, 21, 31, 23, 23, 21, 7, 29, 23, 13, 15, 31, 29, 31, 23, 31, 23, 23, 31, 23, 23, 23, 27, 23, 23, 23, 31, 29, 21]\n",
      "Best number of groups: 5\n",
      "Cannot visualize more than 2 groups\n"
     ]
    }
   ],
   "source": [
    "with open(ll_path, \"r\") as f:\n",
    "    lines = f.readlines()\n",
    "    min_ll = float(\"inf\")\n",
    "    min_ll_index = 0\n",
    "    for i, line in enumerate(lines):\n",
    "        ll = float(line.strip())\n",
    "        if ll < min_ll:\n",
    "            min_ll = ll\n",
    "            min_ll_index = i\n",
    "    print(f\"Minimum log likelihood: {min_ll} at index {min_ll_index}\")\n",
    "\n",
    "with open(config_path, \"r\") as f:\n",
    "    lines = f.readlines()\n",
    "    best_config = lines[min_ll_index].strip()\n",
    "    best_config = list(map(int, best_config.split()))\n",
    "    print(f\"Best config: {best_config}\")\n",
    "\n",
    "with open(num_groups_path, \"r\") as f:\n",
    "    lines = f.readlines()\n",
    "    best_num_groups = int(lines[min_ll_index].strip())\n",
    "    print(f\"Best number of groups: {best_num_groups}\")\n",
    "\n",
    "if best_num_groups == 2:\n",
    "    def truncate_colormap(cmap, min_val=0.2, max_val=1.0, n=100):\n",
    "        new_cmap = LinearSegmentedColormap.from_list(\n",
    "            f\"trunc({cmap.name},{min_val:.2f},{max_val:.2f})\",\n",
    "            cmap(np.linspace(min_val, max_val, n))\n",
    "        )\n",
    "        return new_cmap\n",
    "\n",
    "    def get_node_groups(number):\n",
    "        binary = format(number, 'b')[::-1]\n",
    "        return [i for i, bit in enumerate(binary) if bit == '1']\n",
    "\n",
    "    def create_group_based_layout(G, numbers):\n",
    "        node_list = list(G.nodes())\n",
    "        node_to_idx = {node: idx for idx, node in enumerate(node_list)}\n",
    "        idx_to_node = {idx: node for idx, node in enumerate(node_list)}\n",
    "        \n",
    "        node_groups = {}\n",
    "        for i, num in enumerate(numbers):\n",
    "            if i < len(node_list):\n",
    "                node_groups[node_list[i]] = get_node_groups(num)\n",
    "        \n",
    "        # Calculate hierarchical level based on number of groups a node belongs to\n",
    "        hierarchy_levels = {node: len(groups) for node, groups in node_groups.items()}\n",
    "        max_level = max(hierarchy_levels.values()) if hierarchy_levels else 1\n",
    "        \n",
    "        pos = nx.spring_layout(G, k=1, iterations=50)\n",
    "        # Adjust positions based on hierarchy levels\n",
    "        for level in range(max_level + 1):\n",
    "            # Count nodes at this level\n",
    "            level_nodes = [(i, node) for i, node in enumerate(G.nodes()) if hierarchy_levels.get(node, 0) == level]\n",
    "            n_level_nodes = len(level_nodes)\n",
    "            \n",
    "            if n_level_nodes == 0:\n",
    "                continue\n",
    "                \n",
    "            angle_step = 2 * np.pi / n_level_nodes  # Equal spacing in a circle\n",
    "            \n",
    "            # Calculate radius for this level with margin\n",
    "            margin = 0.1  # Adjust this value to increase or decrease spacing\n",
    "            if level < max_level:\n",
    "                base_radius = 1 - (level / max_level)\n",
    "            else:\n",
    "                base_radius = 0.25\n",
    "            radius = base_radius + margin\n",
    "            \n",
    "            # Position nodes at this level\n",
    "            for idx, (i, node) in enumerate(level_nodes):\n",
    "                theta = idx * angle_step  # Unique angle for each node at this level\n",
    "                pos[node] = np.array([radius * np.cos(theta), radius * np.sin(theta)])\n",
    "\n",
    "        fig, ax = plt.subplots(figsize=(15, 12))\n",
    "        \n",
    "        # Node sizes based on number of groups\n",
    "        node_sizes = [600 for node in G.nodes()]\n",
    "        \n",
    "        # Node colors based on highest group number\n",
    "        node_colors = [max(node_groups.get(node, [0])) if node_groups.get(node, []) else 0 \n",
    "                    for node in G.nodes()]\n",
    "\n",
    "        truncated_cmap = truncate_colormap(plt.cm.plasma, min_val=0.5, max_val=1.0)\n",
    "\n",
    "        nodes = nx.draw_networkx_nodes(G, pos, \n",
    "                                    node_size=node_sizes,\n",
    "                                    node_color=node_colors,\n",
    "                                    cmap=truncated_cmap,\n",
    "                                    ax=ax)\n",
    "        \n",
    "        nx.draw_networkx_edges(G, pos, alpha=0.2, ax=ax)\n",
    "        \n",
    "        # Set up colorbar\n",
    "        norm = Normalize(vmin=min(node_colors), vmax=max(node_colors))\n",
    "        sm = plt.cm.ScalarMappable(cmap=truncated_cmap, norm=norm)\n",
    "        sm.set_array([])\n",
    "        plt.colorbar(sm, ax=ax, label=\"Highest Group Number\")\n",
    "\n",
    "        labels = {node: str(node) for node in G.nodes()}\n",
    "        nx.draw_networkx_labels(G, pos, labels, font_color='black', font_size=14, ax=ax)\n",
    "\n",
    "        plt.title(\"Hierarchical core-periphery visualization\")\n",
    "        plt.axis('off')\n",
    "        \n",
    "        return G, pos\n",
    "\n",
    "    G = nx.read_gml(gml_path)\n",
    "    G, pos = create_group_based_layout(G, best_config)\n",
    "    plt.show()\n",
    "\n",
    "else:\n",
    "    print(\"Cannot visualize more than 2 groups\")"
   ]
  },
  {
   "cell_type": "markdown",
   "metadata": {},
   "source": [
    "# Get nodes groups "
   ]
  },
  {
   "cell_type": "code",
   "execution_count": 25,
   "metadata": {},
   "outputs": [
    {
     "name": "stdout",
     "output_type": "stream",
     "text": [
      "Minimum log likelihood: -600.218 at index 16526\n",
      "[15, 31, 15, 13, 31, 7, 27, 29, 23, 31, 9, 13, 15, 31, 21, 23, 31, 13, 15, 29, 21, 31, 23, 23, 21, 7, 29, 23, 13, 15, 31, 29, 31, 23, 31, 23, 23, 31, 23, 23, 23, 27, 23, 23, 23, 31, 29, 21]\n",
      "\n",
      "Groups with Node Labels:\n",
      "Binary Value 11110: Nodes ['c1', 'c3', 'c14', 'c12', 'c19']\n",
      "Binary Value 11111: Nodes ['c2', 'c6', 'c21', 'c27', 'c16', 'c20', 'c22', 'c40', 'c26', 'c41', 'c47']\n",
      "Binary Value 10110: Nodes ['c5', 'c9', 'c11', 'c17']\n",
      "Binary Value 11100: Nodes ['c7', 'c15']\n",
      "Binary Value 11011: Nodes ['c8', 'c43']\n",
      "Binary Value 10111: Nodes ['c24', 'c25', 'c18', 'c36', 'c48']\n",
      "Binary Value 11101: Nodes ['c10', 'c13', 'c39', 'c31', 'c32', 'c45', 'c33', 'c38', 'c23', 'c34', 'c42', 'c30', 'c35', 'c46']\n",
      "Binary Value 10010: Nodes ['c4']\n",
      "Binary Value 10101: Nodes ['c28', 'c37', 'c29', 'c44']\n"
     ]
    }
   ],
   "source": [
    "G = nx.read_gml(gml_path)\n",
    "\n",
    "with open(ll_path, \"r\") as f:\n",
    "    lines = f.readlines()\n",
    "    min_ll = float(\"inf\")\n",
    "    min_ll_index = 0\n",
    "    for i, line in enumerate(lines):\n",
    "        ll = float(line.strip())\n",
    "        if ll < min_ll:\n",
    "            min_ll = ll\n",
    "            min_ll_index = i\n",
    "    print(f\"Minimum log likelihood: {min_ll} at index {min_ll_index}\")\n",
    "\n",
    "with open(config_path, \"r\") as f:\n",
    "    lines = f.readlines()\n",
    "    best_config = lines[min_ll_index].strip()\n",
    "    best_config = list(map(int, best_config.split()))\n",
    "    print(best_config)\n",
    "\n",
    "with open(num_groups_path, \"r\") as f:\n",
    "    lines = f.readlines()\n",
    "    best_num_groups = int(lines[min_ll_index].strip())\n",
    "\n",
    "groups = {}\n",
    "for node_index, value in enumerate(best_config):\n",
    "    binary_value = bin(value)[2:].zfill(5)[::-1]\n",
    "    if binary_value not in groups:\n",
    "        groups[binary_value] = []\n",
    "    groups[binary_value].append(node_index)\n",
    "\n",
    "groups_with_labels = {}\n",
    "for binary_value, node_indices in groups.items():\n",
    "    # Map node indices to their labels\n",
    "    node_labels = [list(G.nodes)[node_index] for node_index in node_indices]\n",
    "    groups_with_labels[binary_value] = node_labels\n",
    "\n",
    "print(\"\\nGroups with Node Labels:\")\n",
    "for binary_value, nodes in groups_with_labels.items():\n",
    "    print(f\"Binary Value {binary_value}: Nodes {nodes}\")\n",
    "\n",
    "# Optionally, add binary value as node attributes for visualization\n",
    "for binary_value, nodes in groups_with_labels.items():\n",
    "    for node in nodes:\n",
    "        if node in G.nodes:  # Ensure the node exists in the graph\n",
    "            G.nodes[node][\"binary_value\"] = binary_value\n",
    "\n",
    "with open(save_directory + saved_data_name + \"_groups_with_labels.txt\", \"w\") as f:\n",
    "    for binary_value, nodes in groups_with_labels.items():\n",
    "        f.write(f\"Binary Value {binary_value}: Nodes {', '.join(nodes)}\\n\")"
   ]
  }
 ],
 "metadata": {
  "kernelspec": {
   "display_name": ".venv",
   "language": "python",
   "name": "python3"
  },
  "language_info": {
   "codemirror_mode": {
    "name": "ipython",
    "version": 3
   },
   "file_extension": ".py",
   "mimetype": "text/x-python",
   "name": "python",
   "nbconvert_exporter": "python",
   "pygments_lexer": "ipython3",
   "version": "3.11.4"
  }
 },
 "nbformat": 4,
 "nbformat_minor": 2
}
